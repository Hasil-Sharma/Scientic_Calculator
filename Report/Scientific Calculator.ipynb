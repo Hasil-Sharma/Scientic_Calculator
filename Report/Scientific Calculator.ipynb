{
 "cells": [
  {
   "cell_type": "markdown",
   "metadata": {},
   "source": [
    "# Scientific Calculator\n",
    "\n",
    "Team Members - Sandesh D Sathyanarayana, Gautham Kashim, Hasil Sharma"
   ]
  },
  {
   "cell_type": "markdown",
   "metadata": {},
   "source": [
    "# Documented Final System State"
   ]
  },
  {
   "cell_type": "markdown",
   "metadata": {},
   "source": [
    "Our Project is Scientific Calculator Application. Application is built using Android. The App features five screens with main screen functionality being trigonometric. Their is an option button in the screen to switch between screens for other available mathematical features. Our features highlights are as follows:\n",
    "\n",
    "* Basic arithmetic operations - addition, subtraction, multiplication, A^B and Nth root.\n",
    "* Trigonometric operations - sine, cosine, tan, secant and hyperbolic etc.\n",
    "* Compound expressions such as $sin(10) + 1 - (10 * (8 - 9))$\n",
    "* Matrix operations - inverse, determinant, multiplication, addition and Transpose\n",
    "* Complex Number operations - conjugate, multiplication, addition, inverse etc.\n",
    "* Numeric conversions from decimal base to Hexadecimal or binary and an option to select the input base.\n",
    "* Combinatorics Operation - Log, _nCr_, _nPr_, factorial."
   ]
  },
  {
   "cell_type": "markdown",
   "metadata": {},
   "source": [
    "# Class Diagram"
   ]
  },
  {
   "cell_type": "markdown",
   "metadata": {},
   "source": []
  },
  {
   "cell_type": "markdown",
   "metadata": {},
   "source": [
    "# Final Project vs. Initial Design"
   ]
  },
  {
   "cell_type": "markdown",
   "metadata": {},
   "source": [
    "## Class Diagram from HW-4"
   ]
  },
  {
   "cell_type": "markdown",
   "metadata": {},
   "source": [
    "## Discussion of changes"
   ]
  },
  {
   "cell_type": "markdown",
   "metadata": {},
   "source": [
    "# Third-Party Code vs. Original Code\n",
    "\n"
   ]
  },
  {
   "cell_type": "markdown",
   "metadata": {},
   "source": []
  },
  {
   "cell_type": "markdown",
   "metadata": {},
   "source": [
    "## External Code "
   ]
  },
  {
   "cell_type": "markdown",
   "metadata": {},
   "source": [
    "We have used mXparser library for Arithmetic, Trigonometric and Combinatorics operations.It is a simple library \n",
    "with super rich features that is fast and easy to use. It is a parser and evaluator that evaluates expressions that \n",
    "are passed as simple plain text or String."
   ]
  },
  {
   "cell_type": "markdown",
   "metadata": {},
   "source": [
    "## List of third party code elements"
   ]
  },
  {
   "cell_type": "code",
   "execution_count": null,
   "metadata": {},
   "outputs": [],
   "source": [
    "mXparser"
   ]
  },
  {
   "cell_type": "markdown",
   "metadata": {},
   "source": [
    "## List of original code elements"
   ]
  },
  {
   "cell_type": "code",
   "execution_count": null,
   "metadata": {},
   "outputs": [],
   "source": [
    "Android application - frontend layout\n",
    "Integration of frontend with backend code.\n",
    "Backend code for Matrix and complex number operation"
   ]
  },
  {
   "cell_type": "markdown",
   "metadata": {},
   "source": [
    "# Design Patterns"
   ]
  },
  {
   "cell_type": "markdown",
   "metadata": {},
   "source": [
    "** Strategy pattern\n",
    "## Object Oriented Principles\n",
    "* To prefer delegation/composition over inheritance\n",
    "* Concept of Polymorphism\n",
    "* Encapsulate that varies\n",
    "* Code Re-use\n"
   ]
  },
  {
   "cell_type": "markdown",
   "metadata": {},
   "source": [
    "# Learnings on OOAD"
   ]
  },
  {
   "cell_type": "code",
   "execution_count": null,
   "metadata": {},
   "outputs": [],
   "source": [
    "Creating class for instantiating objects by specifying requirements.\n",
    "Common Behavior is created as class which helps for code reuse.\n",
    "Decoupling implementation from behaviour.\n"
   ]
  }
 ],
 "metadata": {
  "kernelspec": {
   "display_name": "Python 3",
   "language": "python",
   "name": "python3"
  },
  "language_info": {
   "codemirror_mode": {
    "name": "ipython",
    "version": 3
   },
   "file_extension": ".py",
   "mimetype": "text/x-python",
   "name": "python",
   "nbconvert_exporter": "python",
   "pygments_lexer": "ipython3",
   "version": "3.7.3"
  }
 },
 "nbformat": 4,
 "nbformat_minor": 2
}
